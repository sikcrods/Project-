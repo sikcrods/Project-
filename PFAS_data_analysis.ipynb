{
 "cells": [
  {
   "cell_type": "markdown",
   "metadata": {},
   "source": [
    "# Project Objectives #"
   ]
  },
  {
   "cell_type": "markdown",
   "metadata": {},
   "source": [
    "#### 1) Read-in csv data file on bioaccumulative work "
   ]
  },
  {
   "cell_type": "markdown",
   "metadata": {},
   "source": [
    "#### 2) Utilize pandas, matplotlib, and learn seaborn to implement data handling and visualization\n"
   ]
  },
  {
   "cell_type": "code",
   "execution_count": 1,
   "metadata": {},
   "outputs": [],
   "source": [
    "import matplotlib.pyplot as plt\n",
    "import numpy as np\n",
    "import pandas as pd\n",
    "import seaborn as sns"
   ]
  },
  {
   "cell_type": "code",
   "execution_count": 2,
   "metadata": {},
   "outputs": [
    {
     "data": {
      "text/html": [
       "<div>\n",
       "<style scoped>\n",
       "    .dataframe tbody tr th:only-of-type {\n",
       "        vertical-align: middle;\n",
       "    }\n",
       "\n",
       "    .dataframe tbody tr th {\n",
       "        vertical-align: top;\n",
       "    }\n",
       "\n",
       "    .dataframe thead th {\n",
       "        text-align: right;\n",
       "    }\n",
       "</style>\n",
       "<table border=\"1\" class=\"dataframe\">\n",
       "  <thead>\n",
       "    <tr style=\"text-align: right;\">\n",
       "      <th></th>\n",
       "      <th>Organ</th>\n",
       "      <th>PFOA</th>\n",
       "      <th>PFNA</th>\n",
       "      <th>PFDA</th>\n",
       "      <th>FOSA</th>\n",
       "      <th>PFHxS</th>\n",
       "      <th>PFOS</th>\n",
       "      <th>4:2 FTS</th>\n",
       "      <th>6:2 FTS</th>\n",
       "    </tr>\n",
       "  </thead>\n",
       "  <tbody>\n",
       "    <tr>\n",
       "      <th>0</th>\n",
       "      <td>liver</td>\n",
       "      <td>7.831</td>\n",
       "      <td>4.523</td>\n",
       "      <td>1.880</td>\n",
       "      <td>8.839</td>\n",
       "      <td>0.704</td>\n",
       "      <td>4.714</td>\n",
       "      <td>3.398</td>\n",
       "      <td>6.555</td>\n",
       "    </tr>\n",
       "    <tr>\n",
       "      <th>1</th>\n",
       "      <td>kidney</td>\n",
       "      <td>2.051</td>\n",
       "      <td>2.426</td>\n",
       "      <td>7.936</td>\n",
       "      <td>9.184</td>\n",
       "      <td>8.344</td>\n",
       "      <td>2.691</td>\n",
       "      <td>0.000</td>\n",
       "      <td>9.515</td>\n",
       "    </tr>\n",
       "    <tr>\n",
       "      <th>2</th>\n",
       "      <td>blood</td>\n",
       "      <td>6.627</td>\n",
       "      <td>7.661</td>\n",
       "      <td>0.000</td>\n",
       "      <td>0.135</td>\n",
       "      <td>3.908</td>\n",
       "      <td>8.028</td>\n",
       "      <td>4.772</td>\n",
       "      <td>3.256</td>\n",
       "    </tr>\n",
       "  </tbody>\n",
       "</table>\n",
       "</div>"
      ],
      "text/plain": [
       "    Organ   PFOA   PFNA   PFDA   FOSA  PFHxS   PFOS  4:2 FTS  6:2 FTS\n",
       "0   liver  7.831  4.523  1.880  8.839  0.704  4.714    3.398    6.555\n",
       "1  kidney  2.051  2.426  7.936  9.184  8.344  2.691    0.000    9.515\n",
       "2   blood  6.627  7.661  0.000  0.135  3.908  8.028    4.772    3.256"
      ]
     },
     "execution_count": 2,
     "metadata": {},
     "output_type": "execute_result"
    }
   ],
   "source": [
    "pfas = pd.read_csv('concentration.csv')\n",
    "pfas.head()\n",
    "df = pd.DataFrame(pfas)\n",
    "pfas"
   ]
  },
  {
   "cell_type": "code",
   "execution_count": 3,
   "metadata": {},
   "outputs": [
    {
     "data": {
      "text/plain": [
       "0    6.555\n",
       "1    9.515\n",
       "2    3.256\n",
       "Name: 6:2 FTS, dtype: float64"
      ]
     },
     "execution_count": 3,
     "metadata": {},
     "output_type": "execute_result"
    }
   ],
   "source": [
    "#select individual data by organizing into dataframe\n",
    "organ = df['Organ'].head()\n",
    "fts62 = df['6:2 FTS'].head()\n",
    "\n",
    "#set labels for x data\n",
    "x_labels = fts62\n",
    "x_labels"
   ]
  },
  {
   "cell_type": "code",
   "execution_count": null,
   "metadata": {},
   "outputs": [],
   "source": []
  },
  {
   "cell_type": "code",
   "execution_count": 5,
   "metadata": {},
   "outputs": [
    {
     "data": {
      "image/png": "[encoded data removed]",
      "text/plain": [
       "<Figure size 576x648 with 1 Axes>"
      ]
     },
     "metadata": {
      "needs_background": "light"
     },
     "output_type": "display_data"
    }
   ],
   "source": [
    "#Plot data on bar graph & set y-value on top of bars\n",
    "plt.figure(figsize=(8,9))\n",
    "splot=sns.barplot(organ,fts62, alpha = 0.9)\n",
    "for p in splot.patches:\n",
    "    splot.annotate(format(p.get_height(), '.3f'), \n",
    "                   (p.get_x() + p.get_width() / 2., p.get_height()), \n",
    "                   ha = 'center', va = 'bottom',\n",
    "                   size= 13,\n",
    "                   xytext = (0, 9), \n",
    "                   textcoords = 'offset points')\n",
    "#Add axes labels\n",
    "plt.xlabel('Organ', size=14)\n",
    "plt.ylabel('6:2 FTS Conc.(ng/g)', size=14)\n",
    "plt.title('6:2 FTS Tissue Concentration', size=16)\n",
    "\n",
    "#Make graph look pretty\n",
    "plt.grid(color='purple', linestyle='--',linewidth=3,axis='y',alpha=0.6)\n",
    "\n",
    "plt.show()\n"
   ]
  },
  {
   "cell_type": "code",
   "execution_count": null,
   "metadata": {},
   "outputs": [],
   "source": []
  },
  {
   "cell_type": "code",
   "execution_count": null,
   "metadata": {},
   "outputs": [],
   "source": []
  },
  {
   "cell_type": "markdown",
   "metadata": {},
   "source": [
    "### Descriptive Distribution of dose-dependent uptake. ###\n"
   ]
  },
  {
   "cell_type": "markdown",
   "metadata": {},
   "source": [
    "#### 1. We need to import the percent abundance csv file ####"
   ]
  },
  {
   "cell_type": "markdown",
   "metadata": {},
   "source": [
    "#### 2. Organize dataframes with pandas ####"
   ]
  },
  {
   "cell_type": "markdown",
   "metadata": {},
   "source": [
    "#### 3. to reiterate, let's import those same modules as above ####"
   ]
  },
  {
   "cell_type": "code",
   "execution_count": 6,
   "metadata": {},
   "outputs": [],
   "source": [
    "import matplotlib.pyplot as plt\n",
    "import numpy as np\n",
    "import pandas as pd\n",
    "import seaborn as sns"
   ]
  },
  {
   "cell_type": "code",
   "execution_count": 7,
   "metadata": {},
   "outputs": [
    {
     "data": {
      "text/html": [
       "<div>\n",
       "<style scoped>\n",
       "    .dataframe tbody tr th:only-of-type {\n",
       "        vertical-align: middle;\n",
       "    }\n",
       "\n",
       "    .dataframe tbody tr th {\n",
       "        vertical-align: top;\n",
       "    }\n",
       "\n",
       "    .dataframe thead th {\n",
       "        text-align: right;\n",
       "    }\n",
       "</style>\n",
       "<table border=\"1\" class=\"dataframe\">\n",
       "  <thead>\n",
       "    <tr style=\"text-align: right;\">\n",
       "      <th></th>\n",
       "      <th>site</th>\n",
       "      <th>liverconc</th>\n",
       "    </tr>\n",
       "  </thead>\n",
       "  <tbody>\n",
       "    <tr>\n",
       "      <th>0</th>\n",
       "      <td>FTA25</td>\n",
       "      <td>138.420</td>\n",
       "    </tr>\n",
       "    <tr>\n",
       "      <th>1</th>\n",
       "      <td>FTA25</td>\n",
       "      <td>100.641</td>\n",
       "    </tr>\n",
       "    <tr>\n",
       "      <th>2</th>\n",
       "      <td>FTA25</td>\n",
       "      <td>174.003</td>\n",
       "    </tr>\n",
       "    <tr>\n",
       "      <th>3</th>\n",
       "      <td>FTA25</td>\n",
       "      <td>115.066</td>\n",
       "    </tr>\n",
       "    <tr>\n",
       "      <th>4</th>\n",
       "      <td>FTA25</td>\n",
       "      <td>136.525</td>\n",
       "    </tr>\n",
       "    <tr>\n",
       "      <th>5</th>\n",
       "      <td>FTA25</td>\n",
       "      <td>198.502</td>\n",
       "    </tr>\n",
       "    <tr>\n",
       "      <th>6</th>\n",
       "      <td>FTA25</td>\n",
       "      <td>177.557</td>\n",
       "    </tr>\n",
       "    <tr>\n",
       "      <th>7</th>\n",
       "      <td>FTA25</td>\n",
       "      <td>171.552</td>\n",
       "    </tr>\n",
       "    <tr>\n",
       "      <th>8</th>\n",
       "      <td>FTA25</td>\n",
       "      <td>164.539</td>\n",
       "    </tr>\n",
       "    <tr>\n",
       "      <th>9</th>\n",
       "      <td>FTA25</td>\n",
       "      <td>161.373</td>\n",
       "    </tr>\n",
       "    <tr>\n",
       "      <th>10</th>\n",
       "      <td>FTA25</td>\n",
       "      <td>100.860</td>\n",
       "    </tr>\n",
       "    <tr>\n",
       "      <th>11</th>\n",
       "      <td>FTA25</td>\n",
       "      <td>172.829</td>\n",
       "    </tr>\n",
       "    <tr>\n",
       "      <th>12</th>\n",
       "      <td>FTA50</td>\n",
       "      <td>732.369</td>\n",
       "    </tr>\n",
       "    <tr>\n",
       "      <th>13</th>\n",
       "      <td>FTA50</td>\n",
       "      <td>417.617</td>\n",
       "    </tr>\n",
       "    <tr>\n",
       "      <th>14</th>\n",
       "      <td>FTA50</td>\n",
       "      <td>913.066</td>\n",
       "    </tr>\n",
       "    <tr>\n",
       "      <th>15</th>\n",
       "      <td>FTA50</td>\n",
       "      <td>148.254</td>\n",
       "    </tr>\n",
       "    <tr>\n",
       "      <th>16</th>\n",
       "      <td>FTA50</td>\n",
       "      <td>620.297</td>\n",
       "    </tr>\n",
       "    <tr>\n",
       "      <th>17</th>\n",
       "      <td>FTA50</td>\n",
       "      <td>550.478</td>\n",
       "    </tr>\n",
       "    <tr>\n",
       "      <th>18</th>\n",
       "      <td>FTA50</td>\n",
       "      <td>382.659</td>\n",
       "    </tr>\n",
       "    <tr>\n",
       "      <th>19</th>\n",
       "      <td>FTA50</td>\n",
       "      <td>23.138</td>\n",
       "    </tr>\n",
       "    <tr>\n",
       "      <th>20</th>\n",
       "      <td>FTA50</td>\n",
       "      <td>159.327</td>\n",
       "    </tr>\n",
       "    <tr>\n",
       "      <th>21</th>\n",
       "      <td>FTA50</td>\n",
       "      <td>75.460</td>\n",
       "    </tr>\n",
       "    <tr>\n",
       "      <th>22</th>\n",
       "      <td>FTA50</td>\n",
       "      <td>697.177</td>\n",
       "    </tr>\n",
       "    <tr>\n",
       "      <th>23</th>\n",
       "      <td>FTA50</td>\n",
       "      <td>450.252</td>\n",
       "    </tr>\n",
       "    <tr>\n",
       "      <th>24</th>\n",
       "      <td>FTA100</td>\n",
       "      <td>785.972</td>\n",
       "    </tr>\n",
       "    <tr>\n",
       "      <th>25</th>\n",
       "      <td>FTA100</td>\n",
       "      <td>1253.332</td>\n",
       "    </tr>\n",
       "    <tr>\n",
       "      <th>26</th>\n",
       "      <td>FTA100</td>\n",
       "      <td>690.579</td>\n",
       "    </tr>\n",
       "    <tr>\n",
       "      <th>27</th>\n",
       "      <td>FTA100</td>\n",
       "      <td>473.053</td>\n",
       "    </tr>\n",
       "    <tr>\n",
       "      <th>28</th>\n",
       "      <td>FTA100</td>\n",
       "      <td>582.395</td>\n",
       "    </tr>\n",
       "    <tr>\n",
       "      <th>29</th>\n",
       "      <td>FTA100</td>\n",
       "      <td>468.653</td>\n",
       "    </tr>\n",
       "    <tr>\n",
       "      <th>30</th>\n",
       "      <td>FTA100</td>\n",
       "      <td>1085.335</td>\n",
       "    </tr>\n",
       "    <tr>\n",
       "      <th>31</th>\n",
       "      <td>FTA100</td>\n",
       "      <td>1047.403</td>\n",
       "    </tr>\n",
       "    <tr>\n",
       "      <th>32</th>\n",
       "      <td>FTA100</td>\n",
       "      <td>527.743</td>\n",
       "    </tr>\n",
       "    <tr>\n",
       "      <th>33</th>\n",
       "      <td>FTA100</td>\n",
       "      <td>636.161</td>\n",
       "    </tr>\n",
       "    <tr>\n",
       "      <th>34</th>\n",
       "      <td>FTA100</td>\n",
       "      <td>388.553</td>\n",
       "    </tr>\n",
       "    <tr>\n",
       "      <th>35</th>\n",
       "      <td>FTA100</td>\n",
       "      <td>1201.751</td>\n",
       "    </tr>\n",
       "  </tbody>\n",
       "</table>\n",
       "</div>"
      ],
      "text/plain": [
       "      site  liverconc\n",
       "0    FTA25    138.420\n",
       "1    FTA25    100.641\n",
       "2    FTA25    174.003\n",
       "3    FTA25    115.066\n",
       "4    FTA25    136.525\n",
       "5    FTA25    198.502\n",
       "6    FTA25    177.557\n",
       "7    FTA25    171.552\n",
       "8    FTA25    164.539\n",
       "9    FTA25    161.373\n",
       "10   FTA25    100.860\n",
       "11   FTA25    172.829\n",
       "12   FTA50    732.369\n",
       "13   FTA50    417.617\n",
       "14   FTA50    913.066\n",
       "15   FTA50    148.254\n",
       "16   FTA50    620.297\n",
       "17   FTA50    550.478\n",
       "18   FTA50    382.659\n",
       "19   FTA50     23.138\n",
       "20   FTA50    159.327\n",
       "21   FTA50     75.460\n",
       "22   FTA50    697.177\n",
       "23   FTA50    450.252\n",
       "24  FTA100    785.972\n",
       "25  FTA100   1253.332\n",
       "26  FTA100    690.579\n",
       "27  FTA100    473.053\n",
       "28  FTA100    582.395\n",
       "29  FTA100    468.653\n",
       "30  FTA100   1085.335\n",
       "31  FTA100   1047.403\n",
       "32  FTA100    527.743\n",
       "33  FTA100    636.161\n",
       "34  FTA100    388.553\n",
       "35  FTA100   1201.751"
      ]
     },
     "execution_count": 7,
     "metadata": {},
     "output_type": "execute_result"
    }
   ],
   "source": [
    "conc = pd.read_csv('Liver Concentrations.csv')\n",
    "conc"
   ]
  },
  {
   "cell_type": "code",
   "execution_count": 8,
   "metadata": {},
   "outputs": [
    {
     "data": {
      "text/plain": [
       "Text(0, 0.5, 'Concentration (ng/g)')"
      ]
     },
     "execution_count": 8,
     "metadata": {},
     "output_type": "execute_result"
    },
    {
     "data": {
      "image/png": "[encoded data removed]",
      "text/plain": [
       "<Figure size 1152x1008 with 1 Axes>"
      ]
     },
     "metadata": {
      "needs_background": "light"
     },
     "output_type": "display_data"
    }
   ],
   "source": [
    "# Set figure size for box plot\n",
    "plt.figure(figsize=(16,14))\n",
    "\n",
    "# Use sns.boxplot to configure Seaborn boxplot design\n",
    "sns.set(style='darkgrid', font_scale=1.6) # Sets background to dark tone\n",
    "bplot = sns.boxplot(y = 'liverconc', x = 'site', data = conc, width = 0.5, palette='colorblind')\n",
    "\n",
    "# Use sns.stripplot to add datapoint to boxplot\n",
    "plot = sns.stripplot(y = 'liverconc', x = 'site', data = conc, jitter=True, marker='o', alpha=0.85, color='black')\n",
    "\n",
    "# Add title and axes labels\n",
    "plt.title('Descriptive Distribution of Analytes from Liver', size=28)\n",
    "plt.xlabel('Water Sample Location', size=22)\n",
    "plt.ylabel('Concentration (ng/g)', size=22)\n",
    "\n",
    "#\n"
   ]
  },
  {
   "cell_type": "code",
   "execution_count": null,
   "metadata": {},
   "outputs": [],
   "source": []
  },
  {
   "cell_type": "code",
   "execution_count": null,
   "metadata": {},
   "outputs": [],
   "source": []
  },
  {
   "cell_type": "markdown",
   "metadata": {},
   "source": [
    "# Line plot for dose-dependent uptake #"
   ]
  },
  {
   "cell_type": "markdown",
   "metadata": {},
   "source": [
    "#### 1. Import modules ####"
   ]
  },
  {
   "cell_type": "markdown",
   "metadata": {},
   "source": [
    "#### 2. Import dataset ####"
   ]
  },
  {
   "cell_type": "code",
   "execution_count": 11,
   "metadata": {},
   "outputs": [],
   "source": [
    "import matplotlib.pyplot as plt\n",
    "import pandas as pd\n",
    "import seaborn as sns"
   ]
  },
  {
   "cell_type": "code",
   "execution_count": 12,
   "metadata": {},
   "outputs": [
    {
     "data": {
      "text/html": [
       "<div>\n",
       "<style scoped>\n",
       "    .dataframe tbody tr th:only-of-type {\n",
       "        vertical-align: middle;\n",
       "    }\n",
       "\n",
       "    .dataframe tbody tr th {\n",
       "        vertical-align: top;\n",
       "    }\n",
       "\n",
       "    .dataframe thead th {\n",
       "        text-align: right;\n",
       "    }\n",
       "</style>\n",
       "<table border=\"1\" class=\"dataframe\">\n",
       "  <thead>\n",
       "    <tr style=\"text-align: right;\">\n",
       "      <th></th>\n",
       "      <th>Day</th>\n",
       "      <th>Gender</th>\n",
       "      <th>PFOS</th>\n",
       "    </tr>\n",
       "  </thead>\n",
       "  <tbody>\n",
       "    <tr>\n",
       "      <th>0</th>\n",
       "      <td>0</td>\n",
       "      <td>Male</td>\n",
       "      <td>0.023</td>\n",
       "    </tr>\n",
       "    <tr>\n",
       "      <th>1</th>\n",
       "      <td>0</td>\n",
       "      <td>Male</td>\n",
       "      <td>1.590</td>\n",
       "    </tr>\n",
       "    <tr>\n",
       "      <th>2</th>\n",
       "      <td>0</td>\n",
       "      <td>Male</td>\n",
       "      <td>2.590</td>\n",
       "    </tr>\n",
       "    <tr>\n",
       "      <th>3</th>\n",
       "      <td>0</td>\n",
       "      <td>Female</td>\n",
       "      <td>0.849</td>\n",
       "    </tr>\n",
       "    <tr>\n",
       "      <th>4</th>\n",
       "      <td>0</td>\n",
       "      <td>Female</td>\n",
       "      <td>1.440</td>\n",
       "    </tr>\n",
       "    <tr>\n",
       "      <th>5</th>\n",
       "      <td>0</td>\n",
       "      <td>Female</td>\n",
       "      <td>1.230</td>\n",
       "    </tr>\n",
       "    <tr>\n",
       "      <th>6</th>\n",
       "      <td>7</td>\n",
       "      <td>Male</td>\n",
       "      <td>171.490</td>\n",
       "    </tr>\n",
       "    <tr>\n",
       "      <th>7</th>\n",
       "      <td>7</td>\n",
       "      <td>Male</td>\n",
       "      <td>180.550</td>\n",
       "    </tr>\n",
       "    <tr>\n",
       "      <th>8</th>\n",
       "      <td>7</td>\n",
       "      <td>Male</td>\n",
       "      <td>180.670</td>\n",
       "    </tr>\n",
       "    <tr>\n",
       "      <th>9</th>\n",
       "      <td>7</td>\n",
       "      <td>Female</td>\n",
       "      <td>198.760</td>\n",
       "    </tr>\n",
       "    <tr>\n",
       "      <th>10</th>\n",
       "      <td>7</td>\n",
       "      <td>Female</td>\n",
       "      <td>120.560</td>\n",
       "    </tr>\n",
       "    <tr>\n",
       "      <th>11</th>\n",
       "      <td>7</td>\n",
       "      <td>Female</td>\n",
       "      <td>128.400</td>\n",
       "    </tr>\n",
       "    <tr>\n",
       "      <th>12</th>\n",
       "      <td>14</td>\n",
       "      <td>Male</td>\n",
       "      <td>486.400</td>\n",
       "    </tr>\n",
       "    <tr>\n",
       "      <th>13</th>\n",
       "      <td>14</td>\n",
       "      <td>Male</td>\n",
       "      <td>496.550</td>\n",
       "    </tr>\n",
       "    <tr>\n",
       "      <th>14</th>\n",
       "      <td>14</td>\n",
       "      <td>Male</td>\n",
       "      <td>490.990</td>\n",
       "    </tr>\n",
       "    <tr>\n",
       "      <th>15</th>\n",
       "      <td>14</td>\n",
       "      <td>Female</td>\n",
       "      <td>422.650</td>\n",
       "    </tr>\n",
       "    <tr>\n",
       "      <th>16</th>\n",
       "      <td>14</td>\n",
       "      <td>Female</td>\n",
       "      <td>510.340</td>\n",
       "    </tr>\n",
       "    <tr>\n",
       "      <th>17</th>\n",
       "      <td>14</td>\n",
       "      <td>Female</td>\n",
       "      <td>580.880</td>\n",
       "    </tr>\n",
       "    <tr>\n",
       "      <th>18</th>\n",
       "      <td>21</td>\n",
       "      <td>Male</td>\n",
       "      <td>710.340</td>\n",
       "    </tr>\n",
       "    <tr>\n",
       "      <th>19</th>\n",
       "      <td>21</td>\n",
       "      <td>Male</td>\n",
       "      <td>701.700</td>\n",
       "    </tr>\n",
       "    <tr>\n",
       "      <th>20</th>\n",
       "      <td>21</td>\n",
       "      <td>Male</td>\n",
       "      <td>714.580</td>\n",
       "    </tr>\n",
       "    <tr>\n",
       "      <th>21</th>\n",
       "      <td>21</td>\n",
       "      <td>Female</td>\n",
       "      <td>695.230</td>\n",
       "    </tr>\n",
       "    <tr>\n",
       "      <th>22</th>\n",
       "      <td>21</td>\n",
       "      <td>Female</td>\n",
       "      <td>689.570</td>\n",
       "    </tr>\n",
       "    <tr>\n",
       "      <th>23</th>\n",
       "      <td>21</td>\n",
       "      <td>Female</td>\n",
       "      <td>656.090</td>\n",
       "    </tr>\n",
       "  </tbody>\n",
       "</table>\n",
       "</div>"
      ],
      "text/plain": [
       "    Day  Gender     PFOS\n",
       "0     0    Male    0.023\n",
       "1     0    Male    1.590\n",
       "2     0    Male    2.590\n",
       "3     0  Female    0.849\n",
       "4     0  Female    1.440\n",
       "5     0  Female    1.230\n",
       "6     7    Male  171.490\n",
       "7     7    Male  180.550\n",
       "8     7    Male  180.670\n",
       "9     7  Female  198.760\n",
       "10    7  Female  120.560\n",
       "11    7  Female  128.400\n",
       "12   14    Male  486.400\n",
       "13   14    Male  496.550\n",
       "14   14    Male  490.990\n",
       "15   14  Female  422.650\n",
       "16   14  Female  510.340\n",
       "17   14  Female  580.880\n",
       "18   21    Male  710.340\n",
       "19   21    Male  701.700\n",
       "20   21    Male  714.580\n",
       "21   21  Female  695.230\n",
       "22   21  Female  689.570\n",
       "23   21  Female  656.090"
      ]
     },
     "execution_count": 12,
     "metadata": {},
     "output_type": "execute_result"
    }
   ],
   "source": [
    "# import analyte uptake dataset\n",
    "uptake = pd.read_csv('Daily_Uptake.csv')\n",
    "uptake.head()\n",
    "uptake"
   ]
  },
  {
   "cell_type": "code",
   "execution_count": 13,
   "metadata": {},
   "outputs": [
    {
     "data": {
      "text/plain": [
       "Text(0.5, 1.0, 'Exposure Period Uptake')"
      ]
     },
     "execution_count": 13,
     "metadata": {},
     "output_type": "execute_result"
    },
    {
     "data": {
      "image/png": "[encoded data removed]",
      "text/plain": [
       "<Figure size 864x720 with 1 Axes>"
      ]
     },
     "metadata": {},
     "output_type": "display_data"
    }
   ],
   "source": [
    "# Set the figure size\n",
    "plt.figure(figsize=(12,10))\n",
    "\n",
    "# Construct basic uptake line plot with Seaborn\n",
    "sns.set(style='darkgrid', font_scale=1.2)\n",
    "sns.lineplot('Day', 'PFOS', hue='Gender', style='Gender', data=uptake, ci=None, marker='o')\n",
    "\n",
    "# Make plot look pretty\n",
    "plt.ylabel('PFOS Concentration (ng/g)', size=14)\n",
    "plt.xlabel('Days of Exposure', size=14)\n",
    "plt.title('Exposure Period Uptake', size=18)"
   ]
  },
  {
   "cell_type": "code",
   "execution_count": null,
   "metadata": {},
   "outputs": [],
   "source": []
  }
 ],
 "metadata": {
  "kernelspec": {
   "display_name": "Python 3",
   "language": "python",
   "name": "python3"
  },
  "language_info": {
   "codemirror_mode": {
    "name": "ipython",
    "version": 3
   },
   "file_extension": ".py",
   "mimetype": "text/x-python",
   "name": "python",
   "nbconvert_exporter": "python",
   "pygments_lexer": "ipython3",
   "version": "3.8.3"
  }
 },
 "nbformat": 4,
 "nbformat_minor": 4
}
